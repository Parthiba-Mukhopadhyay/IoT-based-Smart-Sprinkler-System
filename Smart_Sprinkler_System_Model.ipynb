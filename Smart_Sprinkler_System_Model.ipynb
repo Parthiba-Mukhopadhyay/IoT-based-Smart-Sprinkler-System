{
  "nbformat": 4,
  "nbformat_minor": 0,
  "metadata": {
    "colab": {
      "provenance": []
    },
    "kernelspec": {
      "name": "python3",
      "display_name": "Python 3"
    },
    "language_info": {
      "name": "python"
    }
  },
  "cells": [
    {
      "cell_type": "code",
      "execution_count": null,
      "metadata": {
        "colab": {
          "base_uri": "https://localhost:8080/",
          "height": 581
        },
        "id": "1Hkc4JIRX2TS",
        "outputId": "ba2962a9-da45-42cf-98a1-af5c08f96521"
      },
      "outputs": [
        {
          "output_type": "stream",
          "name": "stdout",
          "text": [
            "Accuracy: 0.9981172926668549\n"
          ]
        },
        {
          "output_type": "display_data",
          "data": {
            "text/plain": [
              "<Figure size 800x600 with 2 Axes>"
            ],
            "image/png": "[encoded data removed]"
          },
          "metadata": {}
        }
      ],
      "source": [
        "import pandas as pd\n",
        "from sklearn.model_selection import train_test_split\n",
        "from sklearn.ensemble import RandomForestClassifier\n",
        "from sklearn.metrics import accuracy_score, confusion_matrix\n",
        "import seaborn as sns\n",
        "import matplotlib.pyplot as plt\n",
        "\n",
        "# Load the dataset\n",
        "df = pd.read_csv('iot_dataset.csv')\n",
        "\n",
        "\n",
        "# Split features (X) and target variable (y)\n",
        "X = df.drop(columns=['SPRINKLER','Weighted_Average'])\n",
        "y = df['SPRINKLER']\n",
        "\n",
        "# Train-test split\n",
        "X_train, X_test, y_train, y_test = train_test_split(X, y, test_size=0.2, random_state=42)\n",
        "\n",
        "# Choose a model and train\n",
        "model = RandomForestClassifier(n_estimators=100, random_state=42)\n",
        "model.fit(X_train, y_train)\n",
        "\n",
        "# Evaluate the model\n",
        "y_pred = model.predict(X_test)\n",
        "accuracy = accuracy_score(y_test, y_pred)\n",
        "print(\"Accuracy:\", accuracy)\n",
        "\n",
        "# Display Confusion Matrix\n",
        "conf_matrix = confusion_matrix(y_test, y_pred)\n",
        "plt.figure(figsize=(8, 6))\n",
        "sns.heatmap(conf_matrix, annot=True, fmt=\"d\", cmap=\"Blues\", xticklabels=model.classes_, yticklabels=model.classes_)\n",
        "plt.xlabel('Predicted Labels')\n",
        "plt.ylabel('True Labels')\n",
        "plt.title('Confusion Matrix')\n",
        "plt.show()\n",
        "\n"
      ]
    },
    {
      "cell_type": "code",
      "source": [
        "\n"
      ],
      "metadata": {
        "id": "sonUDun1zBih"
      },
      "execution_count": null,
      "outputs": []
    },
    {
      "cell_type": "code",
      "source": [
        "# Prediction\n",
        "new_data = {}  # Store user input here\n",
        "new_data['TEMPERATURE'] = float(input(\"Enter Temperature: \"))\n",
        "new_data['HUMIDITY'] = float(input(\"Enter Humidity: \"))\n",
        "new_data['SOIL MOISTURE'] = float(input(\"Enter Soil Moisture: \"))\n",
        "new_data['INTENSITY'] = float(input(\"Enter Intensity: \"))\n",
        "\n",
        "# Function to calculate weighted average for each row\n",
        "weights = {'temperature': 0.28, 'humidity': 0.28, 'soil_moisture': 0.30, 'intensity': 0.14}\n",
        "\n",
        "def calculate_weighted_average(data):\n",
        "    weighted_sum = 0\n",
        "    weighted_sum += weights['temperature'] * data['TEMPERATURE']\n",
        "    weighted_sum += weights['humidity'] * data['HUMIDITY']\n",
        "    weighted_sum += weights['soil_moisture'] * data['SOIL MOISTURE']\n",
        "    weighted_sum += weights['intensity'] * data['INTENSITY']\n",
        "    return weighted_sum\n",
        "\n",
        "weighted_average = calculate_weighted_average(new_data)\n",
        "\n",
        "# Prediction\n",
        "new_data_df = pd.DataFrame([new_data])\n",
        "new_data_df['Weighted_Average'] = weighted_average\n",
        "\n",
        "prediction = model.predict(new_data_df.drop(columns=['Weighted_Average']))  # Exclude 'Weighted Average' from prediction\n",
        "print(\"Predicted SPRINKLER Label:\", prediction[0])\n"
      ],
      "metadata": {
        "colab": {
          "base_uri": "https://localhost:8080/"
        },
        "id": "chsBmqeaZAx7",
        "outputId": "198a3f07-0cbf-4aad-c5f2-89e77dfb1168"
      },
      "execution_count": null,
      "outputs": [
        {
          "output_type": "stream",
          "name": "stdout",
          "text": [
            "Enter Temperature: 35\n",
            "Enter Humidity: 45\n",
            "Enter Soil Moisture: 3000\n",
            "Enter Intensity: 122\n",
            "Predicted SPRINKLER Label: 0\n"
          ]
        }
      ]
    },
    {
      "cell_type": "code",
      "source": [
        "import joblib\n",
        "joblib.dump(model, 'my_model.pkl')  # Save the model"
      ],
      "metadata": {
        "id": "yhh5SsT8Zew-",
        "colab": {
          "base_uri": "https://localhost:8080/"
        },
        "outputId": "0babbf90-199f-484a-a8d0-2167842a7f47"
      },
      "execution_count": null,
      "outputs": [
        {
          "output_type": "execute_result",
          "data": {
            "text/plain": [
              "['my_model.pkl']"
            ]
          },
          "metadata": {},
          "execution_count": 5
        }
      ]
    },
    {
      "cell_type": "code",
      "source": [
        "import joblib\n",
        "import tensorflow as tf\n",
        "from sklearn.svm import SVC  # Assuming your model is an SVM from scikit-learn\n",
        "\n",
        "# Load the scikit-learn model\n",
        "model = joblib.load('my_model.pkl')\n",
        "\n",
        "# Convert to TensorFlow model (if needed)\n",
        "# This is just a conceptual example and might not directly apply to your model\n",
        "tf_model = tf.keras.Sequential([\n",
        "    tf.keras.layers.InputLayer(input_shape=(53116,6)),  # Specify input shape\n",
        "    # Add layers corresponding to the scikit-learn model\n",
        "    # Example: tf.keras.layers.Dense(...),\n",
        "    #          tf.keras.layers.Activation(...),\n",
        "    #          ...\n",
        "])\n",
        "\n",
        "# Compile and train the TensorFlow model (if needed)\n",
        "\n",
        "# Optimize TensorFlow model (optional)\n",
        "# Example optimizations: quantization, pruning, etc.\n",
        "\n",
        "# Convert TensorFlow model to TensorFlow Lite\n",
        "converter = tf.lite.TFLiteConverter.from_keras_model(tf_model)\n",
        "tflite_model = converter.convert()\n",
        "\n",
        "# Save the TensorFlow Lite model\n",
        "with open('my_model.tflite', 'wb') as f:\n",
        "    f.write(tflite_model)\n"
      ],
      "metadata": {
        "id": "O0J9zfsu7z5z"
      },
      "execution_count": null,
      "outputs": []
    },
    {
      "cell_type": "code",
      "source": [
        "classmap = {\n",
        "    0: 'Off',\n",
        "    1: 'On'\n",
        "}"
      ],
      "metadata": {
        "id": "FZNXf3yQHyau"
      },
      "execution_count": null,
      "outputs": []
    },
    {
      "cell_type": "code",
      "source": [
        "!pip install micromlgen"
      ],
      "metadata": {
        "colab": {
          "base_uri": "https://localhost:8080/"
        },
        "id": "87MDsg8jGvYe",
        "outputId": "51acdb35-003b-4a42-bfc5-baa94ab0acb5"
      },
      "execution_count": null,
      "outputs": [
        {
          "output_type": "stream",
          "name": "stdout",
          "text": [
            "Collecting micromlgen\n",
            "  Downloading micromlgen-1.1.28.tar.gz (12 kB)\n",
            "  Preparing metadata (setup.py) ... \u001b[?25l\u001b[?25hdone\n",
            "Requirement already satisfied: jinja2 in /usr/local/lib/python3.10/dist-packages (from micromlgen) (3.1.3)\n",
            "Requirement already satisfied: MarkupSafe>=2.0 in /usr/local/lib/python3.10/dist-packages (from jinja2->micromlgen) (2.1.5)\n",
            "Building wheels for collected packages: micromlgen\n",
            "  Building wheel for micromlgen (setup.py) ... \u001b[?25l\u001b[?25hdone\n",
            "  Created wheel for micromlgen: filename=micromlgen-1.1.28-py3-none-any.whl size=32152 sha256=c1b4a7a24c6eaec3d8c0f8ecd4ed860cb5f8f267f6619b1bb3f6cf1aa651bbb3\n",
            "  Stored in directory: /root/.cache/pip/wheels/97/54/64/5d82c310920abe1be0d120313ceb9e12c88f5701f53f6ed248\n",
            "Successfully built micromlgen\n",
            "Installing collected packages: micromlgen\n",
            "Successfully installed micromlgen-1.1.28\n"
          ]
        }
      ]
    },
    {
      "cell_type": "code",
      "source": [
        "from micromlgen import port\n",
        "\n",
        "if __name__ == '__main__':\n",
        "    # features, classmap = load_features('your-data-folder')\n",
        "    # classifier = get_model(features)\n",
        "    c_code = port(model)\n",
        "    print(c_code)"
      ],
      "metadata": {
        "colab": {
          "base_uri": "https://localhost:8080/"
        },
        "id": "sDGh0Wu8Gwue",
        "outputId": "706d594d-2cd4-4621-abf9-f6ef18069ba8"
      },
      "execution_count": null,
      "outputs": [
        {
          "output_type": "stream",
          "name": "stderr",
          "text": [
            "IOPub data rate exceeded.\n",
            "The notebook server will temporarily stop sending output\n",
            "to the client in order to avoid crashing it.\n",
            "To change this limit, set the config variable\n",
            "`--NotebookApp.iopub_data_rate_limit`.\n",
            "\n",
            "Current values:\n",
            "NotebookApp.iopub_data_rate_limit=1000000.0 (bytes/sec)\n",
            "NotebookApp.rate_limit_window=3.0 (secs)\n",
            "\n"
          ]
        }
      ]
    },
    {
      "cell_type": "code",
      "source": [
        "with open(\"model.h\",\"w\") as file:\n",
        "  for i in c_code:\n",
        "    file.write(i)"
      ],
      "metadata": {
        "id": "3xlBS1nyH7aE"
      },
      "execution_count": null,
      "outputs": []
    },
    {
      "cell_type": "code",
      "source": [],
      "metadata": {
        "id": "-un7lH-mIBTW"
      },
      "execution_count": null,
      "outputs": []
    }
  ]
}